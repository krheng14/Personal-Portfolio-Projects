{
 "cells": [
  {
   "cell_type": "code",
   "execution_count": 3,
   "id": "89f0d9e0-1cc1-497c-9ccf-dda2bd052320",
   "metadata": {},
   "outputs": [],
   "source": [
    "import pandas as pd\n",
    "import time\n",
    "from selenium import webdriver\n",
    "from webdriver_manager.chrome import ChromeDriverManager"
   ]
  },
  {
   "cell_type": "markdown",
   "id": "a68223aa-b4c5-4dff-88df-61046f34c979",
   "metadata": {},
   "source": [
    "### Create Driver"
   ]
  },
  {
   "cell_type": "code",
   "execution_count": 113,
   "id": "22562d4b-32c0-4a72-aff5-c0fd49f7ba26",
   "metadata": {},
   "outputs": [
    {
     "name": "stdout",
     "output_type": "stream",
     "text": [
      "\n"
     ]
    },
    {
     "name": "stderr",
     "output_type": "stream",
     "text": [
      "[WDM] - ====== WebDriver manager ======\n",
      "[WDM] - Current google-chrome version is 102.0.5005\n",
      "[WDM] - Get LATEST chromedriver version for 102.0.5005 google-chrome\n",
      "[WDM] - Driver [C:\\Users\\krhen\\.wdm\\drivers\\chromedriver\\win32\\102.0.5005.61\\chromedriver.exe] found in cache\n",
      "c:\\users\\krhen\\desktop\\python practice\\witcher project\\env\\lib\\site-packages\\ipykernel_launcher.py:1: DeprecationWarning: executable_path has been deprecated, please pass in a Service object\n",
      "  \"\"\"Entry point for launching an IPython kernel.\n"
     ]
    }
   ],
   "source": [
    "driver = webdriver.Chrome(ChromeDriverManager().install())"
   ]
  },
  {
   "cell_type": "code",
   "execution_count": 114,
   "id": "0e73e55b-6072-4fde-8e9f-47362131148b",
   "metadata": {},
   "outputs": [],
   "source": [
    "page_url = 'https://witcher.fandom.com/wiki/Category:Characters_in_the_stories'\n",
    "driver.get(page_url)"
   ]
  },
  {
   "cell_type": "code",
   "execution_count": 131,
   "id": "52f1a404-37d4-4f66-b031-cd5530e6a197",
   "metadata": {},
   "outputs": [],
   "source": [
    "from selenium.webdriver.common.by import By\n",
    "from selenium.common.exceptions import NoSuchElementException\n",
    "\n",
    "#driver.find_element(By.XPATH, '//div[text()=\"ACCEPT\"]').click()"
   ]
  },
  {
   "cell_type": "markdown",
   "id": "dd952854-d05b-4db3-a9ae-6393308aa787",
   "metadata": {},
   "source": [
    "### Find Books"
   ]
  },
  {
   "cell_type": "code",
   "execution_count": 117,
   "id": "7dabfaed-0fe4-40fd-b72c-283bc460be90",
   "metadata": {},
   "outputs": [
    {
     "data": {
      "text/plain": [
       "'Category:Time of Contempt characters'"
      ]
     },
     "execution_count": 117,
     "metadata": {},
     "output_type": "execute_result"
    }
   ],
   "source": [
    "book_categories = driver.find_elements(by=By.CLASS_NAME, value='category-page__member-link')\n",
    "book_categories[len(book_categories)-1].text"
   ]
  },
  {
   "cell_type": "code",
   "execution_count": 118,
   "id": "c8f00767-1679-4665-9b96-15ea9c713599",
   "metadata": {},
   "outputs": [
    {
     "data": {
      "text/plain": [
       "'https://witcher.fandom.com/wiki/Category:Baptism_of_Fire_characters'"
      ]
     },
     "execution_count": 118,
     "metadata": {},
     "output_type": "execute_result"
    }
   ],
   "source": [
    "book_categories[0].get_attribute('href')"
   ]
  },
  {
   "cell_type": "code",
   "execution_count": 119,
   "id": "1c3ae478-8a35-494d-8a25-18a517e19dac",
   "metadata": {},
   "outputs": [],
   "source": [
    "driver.get(book_categories[0].get_attribute('href'))"
   ]
  },
  {
   "cell_type": "code",
   "execution_count": 120,
   "id": "53abe080-89b4-4f2b-99f9-7448e9171543",
   "metadata": {},
   "outputs": [
    {
     "data": {
      "text/plain": [
       "'Adalia'"
      ]
     },
     "execution_count": 120,
     "metadata": {},
     "output_type": "execute_result"
    }
   ],
   "source": [
    "character_elements = driver.find_elements(by=By.CLASS_NAME, value='category-page__member-link')\n",
    "character_elements[0].text"
   ]
  },
  {
   "cell_type": "markdown",
   "id": "071de5dc-9f5c-48b4-8102-524f3a65408b",
   "metadata": {},
   "source": [
    "### Full Code"
   ]
  },
  {
   "cell_type": "code",
   "execution_count": 132,
   "id": "372bded5-8333-437b-88b8-9b6a0c643a7d",
   "metadata": {},
   "outputs": [
    {
     "name": "stdout",
     "output_type": "stream",
     "text": [
      "\n"
     ]
    },
    {
     "name": "stderr",
     "output_type": "stream",
     "text": [
      "[WDM] - ====== WebDriver manager ======\n",
      "[WDM] - Current google-chrome version is 102.0.5005\n",
      "[WDM] - Get LATEST chromedriver version for 102.0.5005 google-chrome\n",
      "[WDM] - Driver [C:\\Users\\krhen\\.wdm\\drivers\\chromedriver\\win32\\102.0.5005.61\\chromedriver.exe] found in cache\n",
      "c:\\users\\krhen\\desktop\\python practice\\witcher project\\env\\lib\\site-packages\\ipykernel_launcher.py:2: DeprecationWarning: executable_path has been deprecated, please pass in a Service object\n",
      "  \n"
     ]
    },
    {
     "name": "stdout",
     "output_type": "stream",
     "text": [
      "No Cookies permission requested.\n"
     ]
    }
   ],
   "source": [
    "#Create driver\n",
    "driver = webdriver.Chrome(ChromeDriverManager().install())\n",
    "\n",
    "#Go to the webpage with catelogs of book series\n",
    "page_url = 'https://witcher.fandom.com/wiki/Category:Characters_in_the_stories'\n",
    "driver.get(page_url)\n",
    "\n",
    "#Click on Accept for cookies tracks if there is one\n",
    "time.sleep(3) # ask driver to wait for a few seconds in order for web page to be fully loaded before web scraping\n",
    "\n",
    "#To click accept cookie tracker if there is a pop-up prompt else procceed forward with scraping and finding element for character class name.\n",
    "try:\n",
    "    driver.find_element(By.XPATH, '//div[text()=\"ACCEPT\"]').click()\n",
    "except NoSuchElementException:\n",
    "    print(\"No Cookies permission requested.\")\n",
    "finally:\n",
    "    #Find books on the page\n",
    "    book_categories = driver.find_elements(by=By.CLASS_NAME, value='category-page__member-link')\n",
    "    books = []\n",
    "    for category in book_categories:\n",
    "        book_url = category.get_attribute('href')\n",
    "        book_name = category.text\n",
    "        books.append({'book_name': book_name, 'book_url': book_url})"
   ]
  },
  {
   "cell_type": "code",
   "execution_count": 133,
   "id": "7e3eb283-1d96-46a2-9382-ea98cb704e04",
   "metadata": {},
   "outputs": [
    {
     "data": {
      "text/plain": [
       "[{'book_name': 'Category:Baptism of Fire characters',\n",
       "  'book_url': 'https://witcher.fandom.com/wiki/Category:Baptism_of_Fire_characters'},\n",
       " {'book_name': 'Category:Blood of Elves characters',\n",
       "  'book_url': 'https://witcher.fandom.com/wiki/Category:Blood_of_Elves_characters'},\n",
       " {'book_name': \"Godamba Thaess'en\",\n",
       "  'book_url': 'https://witcher.fandom.com/wiki/Godamba_Thaess%27en'},\n",
       " {'book_name': 'Category:Season of Storms characters',\n",
       "  'book_url': 'https://witcher.fandom.com/wiki/Category:Season_of_Storms_characters'},\n",
       " {'book_name': 'Category:Something Ends, Something Begins characters',\n",
       "  'book_url': 'https://witcher.fandom.com/wiki/Category:Something_Ends,_Something_Begins_characters'},\n",
       " {'book_name': 'Category:Sword of Destiny characters',\n",
       "  'book_url': 'https://witcher.fandom.com/wiki/Category:Sword_of_Destiny_characters'},\n",
       " {'book_name': 'Category:Szpony i kły characters',\n",
       "  'book_url': 'https://witcher.fandom.com/wiki/Category:Szpony_i_k%C5%82y_characters'},\n",
       " {'book_name': 'Category:Tales from the world of The Witcher characters',\n",
       "  'book_url': 'https://witcher.fandom.com/wiki/Category:Tales_from_the_world_of_The_Witcher_characters'},\n",
       " {'book_name': 'Category:The Lady of the Lake characters',\n",
       "  'book_url': 'https://witcher.fandom.com/wiki/Category:The_Lady_of_the_Lake_characters'},\n",
       " {'book_name': 'Category:The Last Wish characters',\n",
       "  'book_url': 'https://witcher.fandom.com/wiki/Category:The_Last_Wish_characters'},\n",
       " {'book_name': 'Category:The Tower of the Swallow characters',\n",
       "  'book_url': 'https://witcher.fandom.com/wiki/Category:The_Tower_of_the_Swallow_characters'},\n",
       " {'book_name': 'Category:Time of Contempt characters',\n",
       "  'book_url': 'https://witcher.fandom.com/wiki/Category:Time_of_Contempt_characters'}]"
      ]
     },
     "execution_count": 133,
     "metadata": {},
     "output_type": "execute_result"
    }
   ],
   "source": [
    "books"
   ]
  },
  {
   "cell_type": "code",
   "execution_count": 134,
   "id": "71e93c33-eb31-4c40-af13-733df96cc87c",
   "metadata": {},
   "outputs": [],
   "source": [
    "character_list=[]\n",
    "\n",
    "for book in books:\n",
    "    # go to book page\n",
    "    driver.get(book['book_url'])\n",
    "    character_elements = driver.find_elements(by=By.CLASS_NAME, value='category-page__member-link') # character_elements is a list with elements of character names\n",
    "    \n",
    "    for character in character_elements:\n",
    "        character_list.append({'book': book['book_name'], 'character': character.text})"
   ]
  },
  {
   "cell_type": "code",
   "execution_count": 135,
   "id": "3e59f6c0-f2aa-4e49-9b09-b9097bd44829",
   "metadata": {
    "tags": []
   },
   "outputs": [
    {
     "data": {
      "text/html": [
       "<div>\n",
       "<style scoped>\n",
       "    .dataframe tbody tr th:only-of-type {\n",
       "        vertical-align: middle;\n",
       "    }\n",
       "\n",
       "    .dataframe tbody tr th {\n",
       "        vertical-align: top;\n",
       "    }\n",
       "\n",
       "    .dataframe thead th {\n",
       "        text-align: right;\n",
       "    }\n",
       "</style>\n",
       "<table border=\"1\" class=\"dataframe\">\n",
       "  <thead>\n",
       "    <tr style=\"text-align: right;\">\n",
       "      <th></th>\n",
       "      <th>book</th>\n",
       "      <th>character</th>\n",
       "    </tr>\n",
       "  </thead>\n",
       "  <tbody>\n",
       "    <tr>\n",
       "      <th>0</th>\n",
       "      <td>Category:Baptism of Fire characters</td>\n",
       "      <td>Adalia</td>\n",
       "    </tr>\n",
       "    <tr>\n",
       "      <th>1</th>\n",
       "      <td>Category:Baptism of Fire characters</td>\n",
       "      <td>Adela</td>\n",
       "    </tr>\n",
       "    <tr>\n",
       "      <th>2</th>\n",
       "      <td>Category:Baptism of Fire characters</td>\n",
       "      <td>Aen Saevherne</td>\n",
       "    </tr>\n",
       "    <tr>\n",
       "      <th>3</th>\n",
       "      <td>Category:Baptism of Fire characters</td>\n",
       "      <td>Aevenien</td>\n",
       "    </tr>\n",
       "    <tr>\n",
       "      <th>4</th>\n",
       "      <td>Category:Baptism of Fire characters</td>\n",
       "      <td>Aglaïs</td>\n",
       "    </tr>\n",
       "    <tr>\n",
       "      <th>5</th>\n",
       "      <td>Category:Baptism of Fire characters</td>\n",
       "      <td>Albrich</td>\n",
       "    </tr>\n",
       "    <tr>\n",
       "      <th>6</th>\n",
       "      <td>Category:Baptism of Fire characters</td>\n",
       "      <td>Amavet</td>\n",
       "    </tr>\n",
       "    <tr>\n",
       "      <th>7</th>\n",
       "      <td>Category:Baptism of Fire characters</td>\n",
       "      <td>Angus Bri Cri</td>\n",
       "    </tr>\n",
       "    <tr>\n",
       "      <th>8</th>\n",
       "      <td>Category:Baptism of Fire characters</td>\n",
       "      <td>Anna Kameny</td>\n",
       "    </tr>\n",
       "    <tr>\n",
       "      <th>9</th>\n",
       "      <td>Category:Baptism of Fire characters</td>\n",
       "      <td>Anzelm Aubry</td>\n",
       "    </tr>\n",
       "    <tr>\n",
       "      <th>10</th>\n",
       "      <td>Category:Baptism of Fire characters</td>\n",
       "      <td>Artaud Terranova</td>\n",
       "    </tr>\n",
       "    <tr>\n",
       "      <th>11</th>\n",
       "      <td>Category:Baptism of Fire characters</td>\n",
       "      <td>Asse</td>\n",
       "    </tr>\n",
       "    <tr>\n",
       "      <th>12</th>\n",
       "      <td>Category:Baptism of Fire characters</td>\n",
       "      <td>Assire var Anahid</td>\n",
       "    </tr>\n",
       "    <tr>\n",
       "      <th>13</th>\n",
       "      <td>Category:Baptism of Fire characters</td>\n",
       "      <td>Aubry (first born)</td>\n",
       "    </tr>\n",
       "    <tr>\n",
       "      <th>14</th>\n",
       "      <td>Category:Baptism of Fire characters</td>\n",
       "      <td>Augusta Wagner</td>\n",
       "    </tr>\n",
       "    <tr>\n",
       "      <th>15</th>\n",
       "      <td>Category:Baptism of Fire characters</td>\n",
       "      <td>Baron of Casadei</td>\n",
       "    </tr>\n",
       "    <tr>\n",
       "      <th>16</th>\n",
       "      <td>Category:Baptism of Fire characters</td>\n",
       "      <td>Beatrix of Kovir</td>\n",
       "    </tr>\n",
       "    <tr>\n",
       "      <th>17</th>\n",
       "      <td>Category:Baptism of Fire characters</td>\n",
       "      <td>Bronik</td>\n",
       "    </tr>\n",
       "    <tr>\n",
       "      <th>18</th>\n",
       "      <td>Category:Baptism of Fire characters</td>\n",
       "      <td>Brouver Hoog</td>\n",
       "    </tr>\n",
       "    <tr>\n",
       "      <th>19</th>\n",
       "      <td>Category:Baptism of Fire characters</td>\n",
       "      <td>Cahir Mawr Dyffryn aep Ceallach</td>\n",
       "    </tr>\n",
       "    <tr>\n",
       "      <th>20</th>\n",
       "      <td>Category:Baptism of Fire characters</td>\n",
       "      <td>Calanthe</td>\n",
       "    </tr>\n",
       "    <tr>\n",
       "      <th>21</th>\n",
       "      <td>Category:Baptism of Fire characters</td>\n",
       "      <td>Caleb Stratton</td>\n",
       "    </tr>\n",
       "    <tr>\n",
       "      <th>22</th>\n",
       "      <td>Category:Baptism of Fire characters</td>\n",
       "      <td>Carduin</td>\n",
       "    </tr>\n",
       "    <tr>\n",
       "      <th>23</th>\n",
       "      <td>Category:Baptism of Fire characters</td>\n",
       "      <td>Ceallach aep Gruffyd</td>\n",
       "    </tr>\n",
       "    <tr>\n",
       "      <th>24</th>\n",
       "      <td>Category:Baptism of Fire characters</td>\n",
       "      <td>Cerro</td>\n",
       "    </tr>\n",
       "    <tr>\n",
       "      <th>25</th>\n",
       "      <td>Category:Baptism of Fire characters</td>\n",
       "      <td>Ciaran aep Dearbh</td>\n",
       "    </tr>\n",
       "    <tr>\n",
       "      <th>26</th>\n",
       "      <td>Category:Baptism of Fire characters</td>\n",
       "      <td>Ciri</td>\n",
       "    </tr>\n",
       "    <tr>\n",
       "      <th>27</th>\n",
       "      <td>Category:Baptism of Fire characters</td>\n",
       "      <td>Cirilla Fiona (imposter)</td>\n",
       "    </tr>\n",
       "    <tr>\n",
       "      <th>28</th>\n",
       "      <td>Category:Baptism of Fire characters</td>\n",
       "      <td>Codringher</td>\n",
       "    </tr>\n",
       "    <tr>\n",
       "      <th>29</th>\n",
       "      <td>Category:Baptism of Fire characters</td>\n",
       "      <td>Coinneach Dá Reo</td>\n",
       "    </tr>\n",
       "    <tr>\n",
       "      <th>30</th>\n",
       "      <td>Category:Baptism of Fire characters</td>\n",
       "      <td>Connor</td>\n",
       "    </tr>\n",
       "    <tr>\n",
       "      <th>31</th>\n",
       "      <td>Category:Baptism of Fire characters</td>\n",
       "      <td>Coram I</td>\n",
       "    </tr>\n",
       "    <tr>\n",
       "      <th>32</th>\n",
       "      <td>Category:Baptism of Fire characters</td>\n",
       "      <td>Coram II</td>\n",
       "    </tr>\n",
       "    <tr>\n",
       "      <th>33</th>\n",
       "      <td>Category:Baptism of Fire characters</td>\n",
       "      <td>Corbett</td>\n",
       "    </tr>\n",
       "    <tr>\n",
       "      <th>34</th>\n",
       "      <td>Category:Baptism of Fire characters</td>\n",
       "      <td>Cosmo Baldenvegg</td>\n",
       "    </tr>\n",
       "    <tr>\n",
       "      <th>35</th>\n",
       "      <td>Category:Baptism of Fire characters</td>\n",
       "      <td>Count Lanier</td>\n",
       "    </tr>\n",
       "    <tr>\n",
       "      <th>36</th>\n",
       "      <td>Category:Baptism of Fire characters</td>\n",
       "      <td>Cregennan of Lod</td>\n",
       "    </tr>\n",
       "    <tr>\n",
       "      <th>37</th>\n",
       "      <td>Category:Baptism of Fire characters</td>\n",
       "      <td>Crispin</td>\n",
       "    </tr>\n",
       "    <tr>\n",
       "      <th>38</th>\n",
       "      <td>Category:Baptism of Fire characters</td>\n",
       "      <td>Dagorad</td>\n",
       "    </tr>\n",
       "    <tr>\n",
       "      <th>39</th>\n",
       "      <td>Category:Baptism of Fire characters</td>\n",
       "      <td>Dandelion</td>\n",
       "    </tr>\n",
       "    <tr>\n",
       "      <th>40</th>\n",
       "      <td>Category:Baptism of Fire characters</td>\n",
       "      <td>Daniel Etcheverry</td>\n",
       "    </tr>\n",
       "    <tr>\n",
       "      <th>41</th>\n",
       "      <td>Category:Baptism of Fire characters</td>\n",
       "      <td>Demavend III</td>\n",
       "    </tr>\n",
       "    <tr>\n",
       "      <th>42</th>\n",
       "      <td>Category:Baptism of Fire characters</td>\n",
       "      <td>Echel Traighlethan</td>\n",
       "    </tr>\n",
       "    <tr>\n",
       "      <th>43</th>\n",
       "      <td>Category:Baptism of Fire characters</td>\n",
       "      <td>Effenberg</td>\n",
       "    </tr>\n",
       "    <tr>\n",
       "      <th>44</th>\n",
       "      <td>Category:Baptism of Fire characters</td>\n",
       "      <td>Eithné</td>\n",
       "    </tr>\n",
       "    <tr>\n",
       "      <th>45</th>\n",
       "      <td>Category:Baptism of Fire characters</td>\n",
       "      <td>Elan Trahe</td>\n",
       "    </tr>\n",
       "    <tr>\n",
       "      <th>46</th>\n",
       "      <td>Category:Baptism of Fire characters</td>\n",
       "      <td>Elen of Kaedwen</td>\n",
       "    </tr>\n",
       "    <tr>\n",
       "      <th>47</th>\n",
       "      <td>Category:Baptism of Fire characters</td>\n",
       "      <td>Emhyr var Emreis</td>\n",
       "    </tr>\n",
       "    <tr>\n",
       "      <th>48</th>\n",
       "      <td>Category:Baptism of Fire characters</td>\n",
       "      <td>Emiel Regis Rohellec Terzieff-Godefroy</td>\n",
       "    </tr>\n",
       "    <tr>\n",
       "      <th>49</th>\n",
       "      <td>Category:Baptism of Fire characters</td>\n",
       "      <td>Ethain</td>\n",
       "    </tr>\n",
       "  </tbody>\n",
       "</table>\n",
       "</div>"
      ],
      "text/plain": [
       "                                   book                               character\n",
       "0   Category:Baptism of Fire characters                                  Adalia\n",
       "1   Category:Baptism of Fire characters                                   Adela\n",
       "2   Category:Baptism of Fire characters                           Aen Saevherne\n",
       "3   Category:Baptism of Fire characters                                Aevenien\n",
       "4   Category:Baptism of Fire characters                                  Aglaïs\n",
       "5   Category:Baptism of Fire characters                                 Albrich\n",
       "6   Category:Baptism of Fire characters                                  Amavet\n",
       "7   Category:Baptism of Fire characters                           Angus Bri Cri\n",
       "8   Category:Baptism of Fire characters                             Anna Kameny\n",
       "9   Category:Baptism of Fire characters                            Anzelm Aubry\n",
       "10  Category:Baptism of Fire characters                        Artaud Terranova\n",
       "11  Category:Baptism of Fire characters                                    Asse\n",
       "12  Category:Baptism of Fire characters                       Assire var Anahid\n",
       "13  Category:Baptism of Fire characters                      Aubry (first born)\n",
       "14  Category:Baptism of Fire characters                          Augusta Wagner\n",
       "15  Category:Baptism of Fire characters                        Baron of Casadei\n",
       "16  Category:Baptism of Fire characters                        Beatrix of Kovir\n",
       "17  Category:Baptism of Fire characters                                  Bronik\n",
       "18  Category:Baptism of Fire characters                            Brouver Hoog\n",
       "19  Category:Baptism of Fire characters         Cahir Mawr Dyffryn aep Ceallach\n",
       "20  Category:Baptism of Fire characters                                Calanthe\n",
       "21  Category:Baptism of Fire characters                          Caleb Stratton\n",
       "22  Category:Baptism of Fire characters                                 Carduin\n",
       "23  Category:Baptism of Fire characters                    Ceallach aep Gruffyd\n",
       "24  Category:Baptism of Fire characters                                   Cerro\n",
       "25  Category:Baptism of Fire characters                       Ciaran aep Dearbh\n",
       "26  Category:Baptism of Fire characters                                    Ciri\n",
       "27  Category:Baptism of Fire characters                Cirilla Fiona (imposter)\n",
       "28  Category:Baptism of Fire characters                              Codringher\n",
       "29  Category:Baptism of Fire characters                        Coinneach Dá Reo\n",
       "30  Category:Baptism of Fire characters                                  Connor\n",
       "31  Category:Baptism of Fire characters                                 Coram I\n",
       "32  Category:Baptism of Fire characters                                Coram II\n",
       "33  Category:Baptism of Fire characters                                 Corbett\n",
       "34  Category:Baptism of Fire characters                        Cosmo Baldenvegg\n",
       "35  Category:Baptism of Fire characters                            Count Lanier\n",
       "36  Category:Baptism of Fire characters                        Cregennan of Lod\n",
       "37  Category:Baptism of Fire characters                                 Crispin\n",
       "38  Category:Baptism of Fire characters                                 Dagorad\n",
       "39  Category:Baptism of Fire characters                               Dandelion\n",
       "40  Category:Baptism of Fire characters                       Daniel Etcheverry\n",
       "41  Category:Baptism of Fire characters                            Demavend III\n",
       "42  Category:Baptism of Fire characters                      Echel Traighlethan\n",
       "43  Category:Baptism of Fire characters                               Effenberg\n",
       "44  Category:Baptism of Fire characters                                  Eithné\n",
       "45  Category:Baptism of Fire characters                              Elan Trahe\n",
       "46  Category:Baptism of Fire characters                         Elen of Kaedwen\n",
       "47  Category:Baptism of Fire characters                        Emhyr var Emreis\n",
       "48  Category:Baptism of Fire characters  Emiel Regis Rohellec Terzieff-Godefroy\n",
       "49  Category:Baptism of Fire characters                                  Ethain"
      ]
     },
     "execution_count": 135,
     "metadata": {},
     "output_type": "execute_result"
    }
   ],
   "source": [
    "character_df = pd.DataFrame(character_list)\n",
    "pd.set_option(\"display.max_columns\", 500)\n",
    "pd.set_option(\"display.max_rows\", 500)\n",
    "pd.set_option(\"display.width\", 500)\n",
    "character_df.head(50)"
   ]
  },
  {
   "cell_type": "code",
   "execution_count": 136,
   "id": "27a43e35-1384-4651-81a3-f8da5be339c1",
   "metadata": {},
   "outputs": [
    {
     "name": "stdout",
     "output_type": "stream",
     "text": [
      "Category:Baptism of Fire characters                        147\n",
      "Category:Blood of Elves characters                         123\n",
      "Category:Season of Storms characters                       106\n",
      "Category:Something Ends, Something Begins characters        70\n",
      "Category:Sword of Destiny characters                       117\n",
      "Category:Szpony i kły characters                             3\n",
      "Category:Tales from the world of The Witcher characters      1\n",
      "Category:The Lady of the Lake characters                   200\n",
      "Category:The Last Wish characters                          125\n",
      "Category:The Tower of the Swallow characters               186\n",
      "Category:Time of Contempt characters                       196\n",
      "Name: book, dtype: int64\n",
      "Category:The Lady of the Lake characters\n",
      "\n",
      " The number 8 book has the maximum number of characters.\n"
     ]
    }
   ],
   "source": [
    "print(character_df['book'].value_counts(sort=False))\n",
    "print(character_df['book'].value_counts().idxmax())\n",
    "books_df = pd.DataFrame(books)\n",
    "books_df\n",
    "print('\\n', \"The number\", books_df[books_df['book_name']==(character_df['book'].value_counts().idxmax())].index.tolist()[0], 'book has the maximum number of characters.')"
   ]
  },
  {
   "cell_type": "code",
   "execution_count": 137,
   "id": "2be7265f-a336-447d-9e33-ae3ff4530a0b",
   "metadata": {},
   "outputs": [
    {
     "data": {
      "image/png": "[encoded data removed]",
      "text/plain": [
       "<Figure size 432x288 with 1 Axes>"
      ]
     },
     "metadata": {
      "needs_background": "light"
     },
     "output_type": "display_data"
    }
   ],
   "source": [
    "import matplotlib.pyplot as plt\n",
    "\n",
    "character_df['book'].value_counts().plot(kind='bar')\n",
    "plt.show()"
   ]
  }
 ],
 "metadata": {
  "kernelspec": {
   "display_name": "Python 3 (ipykernel)",
   "language": "python",
   "name": "python3"
  },
  "language_info": {
   "codemirror_mode": {
    "name": "ipython",
    "version": 3
   },
   "file_extension": ".py",
   "mimetype": "text/x-python",
   "name": "python",
   "nbconvert_exporter": "python",
   "pygments_lexer": "ipython3",
   "version": "3.7.6"
  }
 },
 "nbformat": 4,
 "nbformat_minor": 5
}
